{
 "cells": [
  {
   "cell_type": "code",
   "execution_count": null,
   "metadata": {
    "collapsed": true
   },
   "outputs": [],
   "source": [
    "import pandas as pd\n",
    "%load_ext autoreload\n",
    "%autoreload 2\n",
    "import tmp.set_env"
   ]
  },
  {
   "cell_type": "code",
   "execution_count": null,
   "metadata": {},
   "outputs": [],
   "source": [
    "from load_dataset import EXTRACT_DIR, COL_NAME_IMAGE_FILE, COL_NAME_NAME, COL_NAME_DESCRIPTION, CLIP_TEXTUAL_EMBS_DIR, \\\n",
    "    COL_NAME_ITEM_ID, COL_NAME_IMAGE_ID, DATASET_DIR\n",
    "from scann.scann_ops.py import scann_ops_pybind\n",
    "from scann.scann_ops.py.scann_ops import ScannSearcher\n",
    "from load_dataset import get_dataframe\n",
    "from load_dataset import CLIP_VISUAL_EMBS_DIR\n",
    "from utils import load_embeddings, public_dataset_to_html, chunker\n",
    "import numpy as np\n",
    "import pandas as pd\n",
    "from tqdm import tqdm\n",
    "from load_dataset import COL_NAME_IMAGE_URL\n",
    "from utils import image_formatter\n",
    "from IPython.core.display import HTML\n",
    "\n"
   ]
  },
  {
   "cell_type": "code",
   "execution_count": null,
   "metadata": {},
   "outputs": [],
   "source": [
    "\n",
    "print(EXTRACT_DIR + 'glami-1m-train-index')\n",
    "index: ScannSearcher = scann_ops_pybind.load_searcher(EXTRACT_DIR + 'glami-1m-train-index')\n"
   ]
  },
  {
   "cell_type": "code",
   "execution_count": null,
   "metadata": {},
   "outputs": [],
   "source": [
    "\n",
    "test_df = get_dataframe(\"test\")\n",
    "train_df = get_dataframe(\"train\")\n"
   ]
  },
  {
   "cell_type": "code",
   "execution_count": null,
   "metadata": {},
   "outputs": [],
   "source": [
    "\n",
    "test_embeddings_array = load_embeddings(test_df, CLIP_VISUAL_EMBS_DIR)\n",
    "np.save(EXTRACT_DIR + 'test_embeddings_array.npy', test_embeddings_array)\n"
   ]
  },
  {
   "cell_type": "code",
   "execution_count": null,
   "metadata": {},
   "outputs": [],
   "source": [
    "test_embeddings_array = np.load(EXTRACT_DIR + 'test_embeddings_array.npy')"
   ]
  },
  {
   "cell_type": "code",
   "execution_count": null,
   "metadata": {},
   "outputs": [],
   "source": [
    "idxs, sims = index.search(test_embeddings_array[0], final_num_neighbors=3)\n"
   ]
  },
  {
   "cell_type": "code",
   "execution_count": null,
   "outputs": [],
   "source": [
    "public_dataset_to_html(test_df.loc[[0]])"
   ],
   "metadata": {
    "collapsed": false
   }
  },
  {
   "cell_type": "code",
   "execution_count": null,
   "metadata": {},
   "outputs": [],
   "source": [
    "\n",
    "# TODO render image\n",
    "public_dataset_to_html(train_df.loc[idxs])\n"
   ]
  },
  {
   "cell_type": "code",
   "execution_count": null,
   "metadata": {},
   "outputs": [],
   "source": [
    "batch_size = 1024\n",
    "n_neighbors = 5\n",
    "closest_train_indexes = np.zeros((len(test_df), n_neighbors), dtype=int)\n",
    "closest_sims = np.zeros((len(test_df), n_neighbors), dtype=float)\n",
    "\n",
    "test_df['index'] = np.arange(len(test_df))\n",
    "n = int(np.ceil(len(test_df) / batch_size))\n",
    "for i in tqdm(test_df['index'].values):\n",
    "    lower = i * batch_size\n",
    "    upper = min((i + 1) * batch_size, len(test_df))\n",
    "    q = test_embeddings_array[lower:upper]\n",
    "    closest_train_indexes[lower:upper], closest_sims[lower:upper] = index.search_batched_parallel(q, n_neighbors)\n",
    "\n",
    "\n",
    "np.save(EXTRACT_DIR + 'closest_train_indexes.npy', closest_train_indexes)\n",
    "np.save(EXTRACT_DIR + 'closest_sims.npy', closest_sims)\n"
   ]
  },
  {
   "cell_type": "code",
   "execution_count": null,
   "outputs": [],
   "source": [
    "closest_train_indexes= np.load(EXTRACT_DIR + 'closest_train_indexes.npy')\n",
    "closest_sims = np.load(EXTRACT_DIR + 'closest_sims.npy')\n"
   ],
   "metadata": {
    "collapsed": false
   }
  },
  {
   "cell_type": "code",
   "execution_count": null,
   "outputs": [],
   "source": [
    "SIM_PREFIX = 'sim_'\n",
    "test_df['index'] = np.arange(len(test_df))\n",
    "test_df['top_1_train_index'] = closest_train_indexes[:, 0]\n",
    "test_df['top_1_sim'] = closest_sims[:, 0]\n",
    "test_df[[SIM_PREFIX + COL_NAME_IMAGE_FILE, SIM_PREFIX + COL_NAME_NAME, SIM_PREFIX + COL_NAME_DESCRIPTION]] = test_df['top_1_train_index'].apply(lambda i: train_df.iloc[i][[COL_NAME_IMAGE_FILE, COL_NAME_NAME, COL_NAME_DESCRIPTION]])\n",
    "sorted_test_df = test_df.sort_values('top_1_sim', ascending=False)\n",
    "# could calculate here, but would be more complex and not needed\n",
    "\n",
    "sorted_test_df['text_sim'] = np.nan\n"
   ],
   "metadata": {
    "collapsed": false
   }
  },
  {
   "cell_type": "code",
   "execution_count": null,
   "outputs": [],
   "source": [
    "sorted_test_df['text_equal'] = (sorted_test_df[COL_NAME_NAME] + sorted_test_df[COL_NAME_DESCRIPTION]) == (sorted_test_df[SIM_PREFIX + COL_NAME_NAME] + sorted_test_df[SIM_PREFIX + COL_NAME_DESCRIPTION])\n",
    "sorted_test_df['name_equal'] = (sorted_test_df[COL_NAME_NAME]) == (sorted_test_df[SIM_PREFIX + COL_NAME_NAME])"
   ],
   "metadata": {
    "collapsed": false
   }
  },
  {
   "cell_type": "code",
   "execution_count": null,
   "outputs": [],
   "source": [
    "# whole histogram\n",
    "sorted_test_df['top_1_sim'].plot.hist(bins=100)"
   ],
   "metadata": {
    "collapsed": false
   }
  },
  {
   "cell_type": "code",
   "execution_count": null,
   "outputs": [],
   "source": [
    "# zoom in\n",
    "sorted_test_df[sorted_test_df['top_1_sim'] >= 0.97]['top_1_sim'].plot.hist(bins=100)\n"
   ],
   "metadata": {
    "collapsed": false
   }
  },
  {
   "cell_type": "code",
   "execution_count": null,
   "outputs": [],
   "source": [
    "def text_shortener(text: str):\n",
    "    if len(text) <= 60:\n",
    "        return text\n",
    "    return text[:60] + \"...\"\n",
    "\n",
    "\n",
    "def display_comparison(df: pd.DataFrame, min_sim: float, column='top_1_sim'):\n",
    "    return display(\n",
    "        HTML(\n",
    "            df[df[column] > min_sim][-20:][[COL_NAME_IMAGE_FILE, 'sim_' + COL_NAME_IMAGE_FILE, 'top_1_sim', COL_NAME_NAME, SIM_PREFIX + COL_NAME_NAME, 'text_sim', 'text_equal', 'name_equal', COL_NAME_DESCRIPTION, SIM_PREFIX + COL_NAME_DESCRIPTION]].to_html(\n",
    "                formatters={\n",
    "                    COL_NAME_IMAGE_FILE: image_formatter,\n",
    "                    'sim_' + COL_NAME_IMAGE_FILE: image_formatter,\n",
    "                    COL_NAME_DESCRIPTION: text_shortener,\n",
    "                    SIM_PREFIX + COL_NAME_DESCRIPTION: text_shortener,\n",
    "                },\n",
    "                escape=False,\n",
    "                index=False,\n",
    "            )\n",
    "        )\n",
    "    )\n"
   ],
   "metadata": {
    "collapsed": false
   }
  },
  {
   "cell_type": "code",
   "execution_count": null,
   "outputs": [],
   "source": [
    "display_comparison(sorted_test_df, 0.99)\n"
   ],
   "metadata": {
    "collapsed": false
   }
  },
  {
   "cell_type": "code",
   "execution_count": null,
   "outputs": [],
   "source": [
    "display_comparison(sorted_test_df, 0.98)\n"
   ],
   "metadata": {
    "collapsed": false
   }
  },
  {
   "cell_type": "code",
   "execution_count": null,
   "outputs": [],
   "source": [
    "display_comparison(sorted_test_df, 0.975)\n"
   ],
   "metadata": {
    "collapsed": false
   }
  },
  {
   "cell_type": "code",
   "execution_count": null,
   "outputs": [],
   "source": [
    "# nearly the same images\n",
    "img_sim_limit = 0.99\n",
    "nearly_leak_test_images_df: pd.DataFrame = sorted_test_df.loc[sorted_test_df['top_1_sim'] > img_sim_limit].copy()\n"
   ],
   "metadata": {
    "collapsed": false
   }
  },
  {
   "cell_type": "code",
   "execution_count": null,
   "outputs": [],
   "source": [
    "# the same texts\n",
    "(test_df[COL_NAME_NAME] + test_df[COL_NAME_DESCRIPTION]).isin((train_df[COL_NAME_NAME] + train_df[COL_NAME_DESCRIPTION]).unique()).sum()"
   ],
   "metadata": {
    "collapsed": false
   }
  },
  {
   "cell_type": "code",
   "execution_count": null,
   "outputs": [],
   "source": [
    "# nearly the same image and the same text\n",
    "(nearly_leak_test_images_df[COL_NAME_NAME] + nearly_leak_test_images_df[COL_NAME_DESCRIPTION]).isin((train_df[COL_NAME_NAME] + train_df[COL_NAME_DESCRIPTION]).unique()).sum()\n"
   ],
   "metadata": {
    "collapsed": false
   }
  },
  {
   "cell_type": "code",
   "execution_count": null,
   "outputs": [],
   "source": [
    "test_text_embeddings_array = load_embeddings(test_df, CLIP_TEXTUAL_EMBS_DIR)\n",
    "train_text_embeddings_array = load_embeddings(train_df, CLIP_TEXTUAL_EMBS_DIR)\n"
   ],
   "metadata": {
    "collapsed": false
   }
  },
  {
   "cell_type": "code",
   "execution_count": null,
   "outputs": [],
   "source": [
    "\n",
    "nearly_leak_test_images_test_text_embs = test_text_embeddings_array[nearly_leak_test_images_df['index'].values]\n",
    "nearly_leak_test_images_train_text_embs = train_text_embeddings_array[nearly_leak_test_images_df['top_1_train_index'].values]\n",
    "assert nearly_leak_test_images_train_text_embs.shape == nearly_leak_test_images_test_text_embs.shape\n",
    "nearly_leak_test_images_sims = [nearly_leak_test_images_test_text_embs[i] @ nearly_leak_test_images_train_text_embs[i].transpose() for i in range(nearly_leak_test_images_train_text_embs.shape[0])]\n",
    "nearly_leak_test_images_df['text_sim'] = nearly_leak_test_images_sims\n",
    "\n"
   ],
   "metadata": {
    "collapsed": false
   }
  },
  {
   "cell_type": "code",
   "execution_count": null,
   "outputs": [],
   "source": [
    "nearly_leak_test_images_train_text_embs.shape"
   ],
   "metadata": {
    "collapsed": false
   }
  },
  {
   "cell_type": "code",
   "execution_count": null,
   "outputs": [],
   "source": [
    "nearly_leak_test_images_sims[:10]"
   ],
   "metadata": {
    "collapsed": false
   }
  },
  {
   "cell_type": "code",
   "execution_count": null,
   "outputs": [],
   "source": [
    "nearly_same_images_sorted_df = nearly_leak_test_images_df.sort_values('text_sim', ascending=False)\n",
    "nearly_same_images_sorted_df['text_sim'].plot.hist(bins=100)\n"
   ],
   "metadata": {
    "collapsed": false
   }
  },
  {
   "cell_type": "code",
   "execution_count": null,
   "outputs": [],
   "source": [
    "nearly_same_images_sorted_df['text_sim'][nearly_same_images_sorted_df['text_sim'] > 0.95].plot.hist(bins=100)\n"
   ],
   "metadata": {
    "collapsed": false
   }
  },
  {
   "cell_type": "code",
   "execution_count": null,
   "outputs": [],
   "source": [
    "display_comparison(nearly_same_images_sorted_df, 0.99, 'text_sim')\n"
   ],
   "metadata": {
    "collapsed": false
   }
  },
  {
   "cell_type": "code",
   "execution_count": null,
   "outputs": [],
   "source": [
    "display_comparison(nearly_same_images_sorted_df, 0.98, 'text_sim')"
   ],
   "metadata": {
    "collapsed": false
   }
  },
  {
   "cell_type": "code",
   "execution_count": null,
   "outputs": [],
   "source": [
    "nearly_same_images_sorted_df[nearly_same_images_sorted_df['text_sim'] > 0.99].shape"
   ],
   "metadata": {
    "collapsed": false
   }
  },
  {
   "cell_type": "code",
   "execution_count": null,
   "outputs": [],
   "source": [
    "nearly_same_images_sorted_df[nearly_same_images_sorted_df['text_sim'] == 1].shape\n"
   ],
   "metadata": {
    "collapsed": false
   }
  },
  {
   "cell_type": "code",
   "execution_count": null,
   "outputs": [],
   "source": [
    "nearly_same_items_df = nearly_same_images_sorted_df[nearly_same_images_sorted_df['text_sim'] > 0.99]"
   ],
   "metadata": {
    "collapsed": false
   }
  },
  {
   "cell_type": "code",
   "execution_count": null,
   "outputs": [],
   "source": [
    "# image_id is not unique.\n",
    "test_df[COL_NAME_IMAGE_ID].isin(nearly_same_items_df[COL_NAME_IMAGE_ID].tolist()).sum()"
   ],
   "metadata": {
    "collapsed": false
   }
  },
  {
   "cell_type": "code",
   "execution_count": null,
   "outputs": [],
   "source": [
    "# plus remove all indentical texts to increase symmetry between the modalities"
   ],
   "metadata": {
    "collapsed": false
   }
  },
  {
   "cell_type": "code",
   "execution_count": null,
   "outputs": [],
   "source": [
    "len(test_df)"
   ],
   "metadata": {
    "collapsed": false
   }
  },
  {
   "cell_type": "code",
   "execution_count": null,
   "outputs": [],
   "source": [
    "pd.Series([np.nan, 1]).isin([np.nan])"
   ],
   "metadata": {
    "collapsed": false
   }
  },
  {
   "cell_type": "code",
   "execution_count": null,
   "outputs": [],
   "source": [
    "mask1 = test_df['index'].isin(nearly_same_items_df['index'])\n",
    "mask2 = (test_df[COL_NAME_NAME] + test_df[COL_NAME_DESCRIPTION]).isin((train_df[COL_NAME_NAME] + train_df[COL_NAME_DESCRIPTION]).unique())\n",
    "print(mask1.sum())\n",
    "print(mask2.sum())\n",
    "\n",
    "no_sim_test_df = test_df[~(mask1) & ~(mask2)]\n",
    "len(test_df) - len(no_sim_test_df)"
   ],
   "metadata": {
    "collapsed": false
   }
  },
  {
   "cell_type": "code",
   "execution_count": null,
   "outputs": [],
   "source": [
    "mask1 = test_df['index'].isin(nearly_same_items_df['index'])\n",
    "mask2 = (test_df[COL_NAME_NAME] + test_df[COL_NAME_DESCRIPTION]).isin((train_df[COL_NAME_NAME] + train_df[COL_NAME_DESCRIPTION]).unique())\n",
    "sim_only_test_df = test_df[mask1 | mask2]\n"
   ],
   "metadata": {
    "collapsed": false
   }
  },
  {
   "cell_type": "code",
   "execution_count": null,
   "outputs": [],
   "source": [
    "from _csv import QUOTE_NONNUMERIC\n",
    "\n",
    "\n",
    "no_sim_test_df.to_csv(EXTRACT_DIR + 'GLAMI-1M-test.csv-no-sim-2022-10-04.csv', quoting=QUOTE_NONNUMERIC, index=False)\n",
    "sim_only_test_df.to_csv(EXTRACT_DIR + 'GLAMI-1M-test.csv-sim-only-2022-10-04.csv')\n",
    "no_sim_test_df.head()\n"
   ],
   "metadata": {
    "collapsed": false
   }
  },
  {
   "cell_type": "code",
   "execution_count": null,
   "outputs": [],
   "source": [
    "sim_only_test_df.head()"
   ],
   "metadata": {
    "collapsed": false
   }
  },
  {
   "cell_type": "code",
   "execution_count": null,
   "outputs": [],
   "source": [],
   "metadata": {
    "collapsed": false
   }
  }
 ],
 "metadata": {
  "kernelspec": {
   "display_name": "Python 3 (ipykernel)",
   "language": "python",
   "name": "python3"
  },
  "language_info": {
   "codemirror_mode": {
    "name": "ipython",
    "version": 3
   },
   "file_extension": ".py",
   "mimetype": "text/x-python",
   "name": "python",
   "nbconvert_exporter": "python",
   "pygments_lexer": "ipython3",
   "version": "3.9.14"
  }
 },
 "nbformat": 4,
 "nbformat_minor": 1
}
