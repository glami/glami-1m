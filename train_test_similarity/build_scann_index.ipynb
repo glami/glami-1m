{
 "cells": [
  {
   "cell_type": "code",
   "execution_count": null,
   "outputs": [],
   "source": [],
   "metadata": {
    "collapsed": false,
    "pycharm": {
     "is_executing": true
    }
   }
  },
  {
   "cell_type": "code",
   "execution_count": null,
   "metadata": {
    "collapsed": true
   },
   "outputs": [],
   "source": [
    "%load_ext autoreload\n",
    "%autoreload 2\n",
    "import tmp.set_env\n"
   ]
  },
  {
   "cell_type": "code",
   "execution_count": null,
   "outputs": [],
   "source": [
    "import numpy as np\n",
    "\n",
    "from load_dataset import EXTRACT_DIR, get_dataframe, CLIP_VISUAL_EMBS_DIR, COL_NAME_ITEM_ID, COL_NAME_IMAGE_FILE, \\\n",
    "  DATASET_DIR\n",
    "from scann import scann_ops_pybind\n",
    "from scann.scann_ops.py.scann_ops import ScannSearcher\n",
    "\n",
    "from utils import chunker, load_embeddings\n"
   ],
   "metadata": {
    "collapsed": false
   }
  },
  {
   "cell_type": "code",
   "execution_count": null,
   "outputs": [],
   "source": [
    "split_type = 'test'\n",
    "index_dir = EXTRACT_DIR + 'GLAMI-1M-dataset-' + split_type +  '-scann-index'\n",
    "emb_cache = EXTRACT_DIR + split_type + '_embeddings_array.npy'\n",
    "\n",
    "df = get_dataframe(split_type)\n"
   ],
   "metadata": {
    "collapsed": false
   }
  },
  {
   "cell_type": "code",
   "execution_count": null,
   "outputs": [],
   "source": [
    "embeddings_array = load_embeddings(df, CLIP_VISUAL_EMBS_DIR)\n"
   ],
   "metadata": {
    "collapsed": false
   }
  },
  {
   "cell_type": "code",
   "execution_count": null,
   "outputs": [],
   "source": [
    "np.save(emb_cache, embeddings_array)\n"
   ],
   "metadata": {
    "collapsed": false
   }
  },
  {
   "cell_type": "code",
   "execution_count": null,
   "outputs": [],
   "source": [
    "\n",
    "\"\"\"\n",
    "https://github.com/google-research/google-research/blob/master/scann/docs/example.ipynb\n",
    "https://github.com/google-research/google-research/blob/master/scann/docs/algorithms.md\n",
    "\"\"\"\n",
    "\n",
    "embeddings_array = np.load(emb_cache)\n",
    "\n",
    "num_leaves = int(np.sqrt(len(embeddings_array)))\n",
    "n_neigh = 10\n",
    "\n",
    "\n",
    "index_builder = scann_ops_pybind.builder(\n",
    "    embeddings_array,\n",
    "    num_neighbors=n_neigh,\n",
    "    distance_measure=\"dot_product\",\n",
    ")\n",
    "\n",
    "index_builder = index_builder.tree(num_leaves=num_leaves, num_leaves_to_search=2 * n_neigh)\n",
    "index_builder = index_builder.score_ah(\n",
    "            dimensions_per_block=2,\n",
    "            anisotropic_quantization_threshold=0.2,\n",
    "        ).reorder(2 * n_neigh)\n",
    "index: ScannSearcher = index_builder.build()\n",
    "index.serialize(EXTRACT_DIR + index_dir)\n"
   ],
   "metadata": {
    "collapsed": false
   }
  },
  {
   "cell_type": "code",
   "execution_count": null,
   "outputs": [],
   "source": [
    "index: ScannSearcher = scann_ops_pybind.load_searcher(index_dir)"
   ],
   "metadata": {
    "collapsed": false
   }
  },
  {
   "cell_type": "code",
   "execution_count": null,
   "outputs": [],
   "source": [
    "\n",
    "\n",
    "idxs, sims = index.search(embeddings_array[0], final_num_neighbors=3)\n"
   ],
   "metadata": {
    "collapsed": false
   }
  },
  {
   "cell_type": "code",
   "execution_count": null,
   "outputs": [],
   "source": [],
   "metadata": {
    "collapsed": false
   }
  }
 ],
 "metadata": {
  "kernelspec": {
   "display_name": "Python 3",
   "language": "python",
   "name": "python3"
  },
  "language_info": {
   "codemirror_mode": {
    "name": "ipython",
    "version": 2
   },
   "file_extension": ".py",
   "mimetype": "text/x-python",
   "name": "python",
   "nbconvert_exporter": "python",
   "pygments_lexer": "ipython2",
   "version": "2.7.6"
  }
 },
 "nbformat": 4,
 "nbformat_minor": 0
}
