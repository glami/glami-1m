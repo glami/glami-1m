{
 "cells": [
  {
   "cell_type": "code",
   "execution_count": null,
   "metadata": {
    "collapsed": true
   },
   "outputs": [],
   "source": [
    "%load_ext autoreload\n",
    "%autoreload 2\n",
    "import tmp.set_env\n"
   ]
  },
  {
   "cell_type": "code",
   "execution_count": null,
   "outputs": [],
   "source": [
    "from load_dataset import get_dataframe, EXTRACT_DIR, COL_NAME_CATEGORY, DATASET_DIR\n",
    "import pandas as pd\n",
    "from matplotlib.axes import Axes"
   ],
   "metadata": {
    "collapsed": false
   }
  },
  {
   "cell_type": "code",
   "execution_count": null,
   "outputs": [],
   "source": [
    "train_df = get_dataframe(\"train\")\n",
    "test_df = get_dataframe(\"test\")"
   ],
   "metadata": {
    "collapsed": false
   }
  },
  {
   "cell_type": "code",
   "execution_count": null,
   "outputs": [],
   "source": [
    "import matplotlib\n",
    "\n",
    "category_dist_df = pd.merge(\n",
    "    train_df[COL_NAME_CATEGORY].value_counts(normalize=True),\n",
    "    test_df[COL_NAME_CATEGORY].value_counts(normalize=True),\n",
    "    left_index=True, right_index=True, suffixes=['_train', '_test']\n",
    ").rename(columns=dict(index='category', category_train='training set', category_test='test set'))\n",
    "\n",
    "\n",
    "category_dist_df[['training set', 'test set']] *= 100\n",
    "\n",
    "matplotlib.rcParams.update({'font.size': 17})\n",
    "ax: Axes = category_dist_df.plot.bar(figsize=(15, 5), xlabel='Category', ylabel='Distribution [%]', logy=False, width=1)\n",
    " # title='Distribution of Samples per Category'\n",
    "ax.tick_params(top=False, bottom=False, left=True, right=False, labelleft=True, labelbottom=False)\n"
   ],
   "metadata": {
    "collapsed": false
   }
  },
  {
   "cell_type": "code",
   "execution_count": null,
   "outputs": [],
   "source": [
    "# TODO more after release"
   ],
   "metadata": {
    "collapsed": false
   }
  }
 ],
 "metadata": {
  "kernelspec": {
   "display_name": "Python 3",
   "language": "python",
   "name": "python3"
  },
  "language_info": {
   "codemirror_mode": {
    "name": "ipython",
    "version": 2
   },
   "file_extension": ".py",
   "mimetype": "text/x-python",
   "name": "python",
   "nbconvert_exporter": "python",
   "pygments_lexer": "ipython2",
   "version": "2.7.6"
  }
 },
 "nbformat": 4,
 "nbformat_minor": 0
}
